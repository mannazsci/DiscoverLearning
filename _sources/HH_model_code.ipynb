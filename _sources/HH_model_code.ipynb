{
  "nbformat": 4,
  "nbformat_minor": 0,
  "metadata": {
    "colab": {
      "provenance": []
    },
    "kernelspec": {
      "name": "python3",
      "display_name": "Python 3"
    },
    "language_info": {
      "name": "python"
    }
  },
  "cells": [
  {
   "cell_type": "markdown",
   "metadata": {
    "execution": {}
   },
   "source": [
    "# Hodgkin Huxley model\n"
   ]
  },
    {
      "cell_type": "code",
      "source": [
        "!pip install interact\n",
        "!pip install interactive"
      ],
      "metadata": {
        "id": "dK7zScO0yTTH"
      },
      "execution_count": null,
      "outputs": []
    },
    {
      "cell_type": "code",
      "execution_count": null,
      "metadata": {
        "id": "k-ve-uW4j3Q6"
      },
      "outputs": [],
      "source": [
        "import matplotlib.pyplot as plt\n",
        "import numpy as np\n",
        "import ipywidgets as widgets\n",
        "from ipywidgets import interact, interactive\n",
        "from IPython.display import display\n",
        "\n",
        "def HH_model(C,Gna,Gk,Gleak):\n",
        "  dt      = 0.5; # all time units in ms\n",
        "  t_end = 1000;\n",
        "  num_timepoints = t_end/dt;\n",
        "  time    = int(num_timepoints);\n",
        "\n",
        "  C       = 1; # (muF/cm^2)\n",
        "  Gna     = 2.0; # (2mS/cm^2)\n",
        "  Gk      = 1.44; # (1.44mS/cm^2)\n",
        "  Gleak   = 0.2; # (0.2mS/cm^2)\n",
        "\n",
        "\n",
        "  Ena     = 50.0; # (mV)\n",
        "  Ek      = -77.0; # (mV)\n",
        "  Eleak   = -54.0; # (mV)\n",
        "\n",
        "  kn      = 15.0; # (mV)\n",
        "  km      = 7.0; # (mV);\n",
        "  tau     = 10.0; # (ms)\n",
        "  Vn      = -45.0; # (mV)\n",
        "\n",
        "  n       = np.zeros((time,1));      # this is our gating parameter\n",
        "  V       = Eleak*np.ones((time,1)); # this will store our membrane potential\n",
        "  Iin     = 2.0;                     # and this is an input current (muA/cm^2)\n",
        "\n",
        "  x = np.arange(1, time, 1, dtype=int);\n",
        "\n",
        "\n",
        "  for t in x:\n",
        "      minf    = 1/(1+np.exp((-40.0-V[t-1])/km));\n",
        "      ninf    = 1/(1+np.exp((Vn-V[t-1])/kn));\n",
        "      h       = 0.89 - 1.1*n[t-1];\n",
        "\n",
        "      dvdt = (1/C)*(-Gna*minf**3*h*(V[t-1]-Ena) - Gk*n[t-1]**4*(V[t-1]-Ek) - Gleak*(V[t-1]-Eleak) + Iin);\n",
        "      dndt = (1/tau)*(ninf - n[t-1]);\n",
        "\n",
        "      V[t] = V[t-1] + dvdt*dt;\n",
        "      n[t] = n[t-1] + dndt*dt;\n",
        "\n",
        "  x = np.arange(0, time, 1, dtype=int);\n",
        "\n",
        "  plt.figure()\n",
        "  plt.plot(x,V)\n",
        "  plt.ylabel('Voltage (mV)');\n",
        "  plt.xlabel('Time (ms)');\n",
        "  plt.ylim(-70,);\n",
        "  plt.show\n",
        "\n",
        "\n",
        "interact(HH_model, C = widgets.FloatSlider(\n",
        "    value=1.0,\n",
        "    min=0.1,\n",
        "    max=2.0,\n",
        "    step=0.1,\n",
        "    description='membrane capacitance:'),\n",
        "    Gna = widgets.FloatSlider(\n",
        "    value=2.0,\n",
        "    min=0.0,\n",
        "    max=5.0,\n",
        "    step=0.1,\n",
        "    description='Sodium conductance:'),\n",
        "    Gk = widgets.FloatSlider(\n",
        "    value=1.44,\n",
        "    min=0.0,\n",
        "    max=5.0,\n",
        "    step=0.1,\n",
        "    description='Potassium conductance:'),\n",
        "    Gleak = widgets.FloatSlider(\n",
        "    value=0.2,\n",
        "    min=0.0,\n",
        "    max=1.0,\n",
        "    step=0.1,\n",
        "    description='Leak conductance:')\n",
        ")\n",
        "\n",
        "\n",
        "\n",
        "\n"
      ]
    }
  ]
}