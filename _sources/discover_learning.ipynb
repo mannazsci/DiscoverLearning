{
 "cells": [
  {
   "cell_type": "markdown",
   "id": "69839ef6",
   "metadata": {},
   "source": [
    "# Let's discover learning!"
   ]
  },
  {
   "cell_type": "code",
   "execution_count": null,
   "id": "e7b32629",
   "metadata": {
    "tags": [
     "remove-input",
     "full-width"
    ]
   },
   "outputs": [],
   "source": []
  },
  {
   "cell_type": "markdown",
   "id": "bbc9e843",
   "metadata": {},
   "source": [
    "## Can we define \"learning\"?"
   ]
  },
  {
   "cell_type": "code",
   "execution_count": 1,
   "id": "28bd5e5b",
   "metadata": {
    "tags": [
     "remove-input",
     "full-width"
    ]
   },
   "outputs": [
    {
     "data": {
      "text/html": [
       "<iframe width=\"560\" height=\"315\" src=\"https://www.youtube.com/embed/EFcb3uIvIjs?si=GgvJzpJApaCt5txX\" title=\"YouTube video player\" frameborder=\"0\" allow=\"accelerometer; autoplay; clipboard-write; encrypted-media; gyroscope; picture-in-picture; web-share\" allowfullscreen></iframe>"
      ],
      "text/plain": [
       "<IPython.core.display.HTML object>"
      ]
     },
     "execution_count": 1,
     "metadata": {},
     "output_type": "execute_result"
    }
   ],
   "source": [
    "from IPython.display import HTML\n",
    "import warnings\n",
    "warnings.filterwarnings('ignore')\n",
    "# Youtube\n",
    "HTML('<iframe width=\"560\" height=\"315\" src=\"https://www.youtube.com/embed/EFcb3uIvIjs?si=GgvJzpJApaCt5txX\" title=\"YouTube video player\" frameborder=\"0\" allow=\"accelerometer; autoplay; clipboard-write; encrypted-media; gyroscope; picture-in-picture; web-share\" allowfullscreen></iframe>')\n"
   ]
  },
  {
   "cell_type": "markdown",
   "id": "a3bffe48",
   "metadata": {},
   "source": [
    "## Workshop Overview"
   ]
  },
  {
   "cell_type": "code",
   "execution_count": 2,
   "id": "8a613cfb",
   "metadata": {
    "tags": [
     "remove-input",
     "full-width"
    ]
   },
   "outputs": [
    {
     "data": {
      "text/html": [
       "<iframe width=\"560\" height=\"315\" src=\"https://www.youtube.com/embed/XzzE6A6qMWs?si=xOjXHwj1sj8BtRuf\" title=\"YouTube video player\" frameborder=\"0\" allow=\"accelerometer; autoplay; clipboard-write; encrypted-media; gyroscope; picture-in-picture; web-share\" allowfullscreen></iframe>"
      ],
      "text/plain": [
       "<IPython.core.display.HTML object>"
      ]
     },
     "execution_count": 2,
     "metadata": {},
     "output_type": "execute_result"
    }
   ],
   "source": [
    "from IPython.display import HTML\n",
    "import warnings\n",
    "warnings.filterwarnings('ignore')\n",
    "# Youtube\n",
    "HTML('<iframe width=\"560\" height=\"315\" src=\"https://www.youtube.com/embed/XzzE6A6qMWs?si=xOjXHwj1sj8BtRuf\" title=\"YouTube video player\" frameborder=\"0\" allow=\"accelerometer; autoplay; clipboard-write; encrypted-media; gyroscope; picture-in-picture; web-share\" allowfullscreen></iframe>')\n"
   ]
  }
 ],
 "metadata": {
  "jupytext": {
   "cell_metadata_filter": "-all",
   "formats": "md:myst",
   "text_representation": {
    "extension": ".md",
    "format_name": "myst",
    "format_version": 0.13,
    "jupytext_version": "1.15.2"
   }
  },
  "kernelspec": {
   "display_name": "Python 3 (ipykernel)",
   "language": "python",
   "name": "python3"
  },
  "language_info": {
   "codemirror_mode": {
    "name": "ipython",
    "version": 3
   },
   "file_extension": ".py",
   "mimetype": "text/x-python",
   "name": "python",
   "nbconvert_exporter": "python",
   "pygments_lexer": "ipython3",
   "version": "3.10.9"
  },
  "source_map": [
   14,
   18,
   22,
   26,
   37,
   40
  ]
 },
 "nbformat": 4,
 "nbformat_minor": 5
}