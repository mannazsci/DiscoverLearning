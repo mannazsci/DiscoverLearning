{
 "cells": [
  {
   "cell_type": "markdown",
   "id": "903df5e3",
   "metadata": {},
   "source": [
    "# What happens when you stimulate a neuron?\n",
    "\n",
    "<a href=\"https://phet.colorado.edu/sims/html/neuron/latest/neuron_en.html\">Let's try a simulation!</a>"
   ]
  }
 ],
 "metadata": {
  "jupytext": {
   "text_representation": {
    "extension": ".md",
    "format_name": "myst",
    "format_version": 0.13,
    "jupytext_version": "1.15.2"
   }
  },
  "kernelspec": {
   "display_name": "Python 3",
   "name": "python3"
  },
  "language_info": {
   "codemirror_mode": {
    "name": "ipython",
    "version": 3
   },
   "file_extension": ".py",
   "mimetype": "text/x-python",
   "name": "python",
   "nbconvert_exporter": "python",
   "pygments_lexer": "ipython3",
   "version": "3.10.9"
  },
  "source_map": [
   11
  ]
 },
 "nbformat": 4,
 "nbformat_minor": 5
}