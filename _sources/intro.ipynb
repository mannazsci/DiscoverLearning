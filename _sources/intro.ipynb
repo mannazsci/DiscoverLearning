{
 "cells": [
  {
   "cell_type": "markdown",
   "id": "0250d271",
   "metadata": {},
   "source": [
    "# Welcome to Discover Learning\n",
    "\n",
    "Discover Learning is a platform for students to discover the neuroscience of behaviour and understand how we (humans) learn. In building this understanding, they will also learn to apply these principles to their personal and professional lives.\n",
    "\n",
    "While the internet offers a lot of self-help advice for students, it is not typically backed by neuroscience. Through this workshop, participants will build a fundamental understanding of learning as a process and sift through the good and bad advice available to them.\n",
    "\n",
    "The workshop will be in a flipped-classroom model, driven by participants' questions and their explorations of the same. This is different from a traditional classroom model, where knowledge is mainly shared through lecturing. Because of the interactive student-driven nature of the workshop we do not have rigid learning outcomes, which means that everyone will be taking home something slightly different from the sessions - and that is perfectly fine!"
   ]
  },
  {
   "cell_type": "code",
   "execution_count": 1,
   "id": "37e65fc9",
   "metadata": {
    "tags": [
     "hide-input"
    ]
   },
   "outputs": [
    {
     "data": {
      "text/html": [
       "<iframe width=\"560\" height=\"315\" src=\"https://www.youtube.com/embed/74YrCK9ER5c?si=1xnPLqoLH4kQkPG9\" title=\"YouTube video player\" frameborder=\"0\" allow=\"accelerometer; autoplay; clipboard-write; encrypted-media; gyroscope; picture-in-picture; web-share\" allowfullscreen></iframe>"
      ],
      "text/plain": [
       "<IPython.core.display.HTML object>"
      ]
     },
     "execution_count": 1,
     "metadata": {},
     "output_type": "execute_result"
    }
   ],
   "source": [
    "from IPython.display import HTML\n",
    "import warnings\n",
    "warnings.filterwarnings('ignore')\n",
    "# Youtube\n",
    "HTML('<iframe width=\"560\" height=\"315\" src=\"https://www.youtube.com/embed/74YrCK9ER5c?si=1xnPLqoLH4kQkPG9\" title=\"YouTube video player\" frameborder=\"0\" allow=\"accelerometer; autoplay; clipboard-write; encrypted-media; gyroscope; picture-in-picture; web-share\" allowfullscreen></iframe>')"
   ]
  },
  {
   "cell_type": "markdown",
   "id": "ee6d45b1",
   "metadata": {},
   "source": [
    "## Date & Venue:\n",
    "The workshop will be held over Zoom for a single day on the 4th of November 2023.\n",
    "\n",
    "Timings: \n",
    "* Session 1: 11 am - 1:30 pm\n",
    "* Lunch break: 1.30 - 2.30 pm\n",
    "* Session 2: 2.30 - 5.00 pm\n",
    "\n",
    "We request that participants be available for the duration mentioned above.\n",
    "\n",
    "Check out the content pages to see more.\n",
    "\n",
    "```{tableofcontents}\n",
    "```"
   ]
  }
 ],
 "metadata": {
  "jupytext": {
   "cell_metadata_filter": "-all",
   "formats": "md:myst",
   "text_representation": {
    "extension": ".md",
    "format_name": "myst",
    "format_version": 0.13,
    "jupytext_version": "1.15.2"
   }
  },
  "kernelspec": {
   "display_name": "Python 3 (ipykernel)",
   "language": "python",
   "name": "python3"
  },
  "language_info": {
   "codemirror_mode": {
    "name": "ipython",
    "version": 3
   },
   "file_extension": ".py",
   "mimetype": "text/x-python",
   "name": "python",
   "nbconvert_exporter": "python",
   "pygments_lexer": "ipython3",
   "version": "3.10.9"
  },
  "source_map": [
   14,
   25,
   34
  ]
 },
 "nbformat": 4,
 "nbformat_minor": 5
}