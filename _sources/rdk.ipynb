{
 "cells": [
  {
   "cell_type": "code",
   "execution_count": 1,
   "metadata": {},
   "outputs": [
    {
     "name": "stdout",
     "output_type": "stream",
     "text": [
      "pygame 2.5.2 (SDL 2.28.3, Python 3.11.5)\n",
      "Hello from the pygame community. https://www.pygame.org/contribute.html\n",
      "0\n",
      "12.1756 \tWARNING \tMonitor specification not found. Creating a temporary one...\n"
     ]
    }
   ],
   "source": [
    "from psychopy import visual, core, event\n",
    "from psychopy.hardware import keyboard\n",
    "import random\n",
    "\n",
    "# Parameters\n",
    "num_dots = 100  # Total number of dots\n",
    "coherence = 0.6  # Percentage of dots moving in the correct direction\n",
    "dot_speed = 0.01  # Speed of dots in pixels per frame\n",
    "direction = random.choice([0, 180])  # -1 for left, 1 for right\n",
    "print(direction)\n",
    "# Create a PsychoPy window\n",
    "win = visual.Window([800, 600])\n",
    "\n",
    "# Create dots\n",
    "dots = visual.DotStim(win, nDots=num_dots, dotSize=3, speed=dot_speed, dotLife=100, dir = direction)\n",
    "dots.setFieldCoherence(coherence)\n",
    "\n",
    "#create a keyboard component\n",
    "kb = keyboard.Keyboard()\n",
    "\n",
    "# Main loop\n",
    "while True:\n",
    "    # dots.setFieldPos(dots.fieldPos + (dot_speed * direction, 0))\n",
    "    dots.draw()\n",
    "    win.flip()\n",
    "    if len(kb.getKeys()) > 0:\n",
    "        break\n",
    "    event.clearEvents()\n",
    "\n",
    "\n",
    "# Close the window when done\n",
    "win.close()\n"
   ]
  }
 ],
 "metadata": {
  "kernelspec": {
   "display_name": "Python 3",
   "language": "python",
   "name": "python3"
  },
  "language_info": {
   "codemirror_mode": {
    "name": "ipython",
    "version": 3
   },
   "file_extension": ".py",
   "mimetype": "text/x-python",
   "name": "python",
   "nbconvert_exporter": "python",
   "pygments_lexer": "ipython3",
   "version": "3.11.5"
  }
 },
 "nbformat": 4,
 "nbformat_minor": 2
}
